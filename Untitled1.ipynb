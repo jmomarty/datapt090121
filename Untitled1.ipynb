{
 "cells": [
  {
   "cell_type": "code",
   "execution_count": 1,
   "id": "7cb0e7f0-c54e-4215-822e-2ec03928676d",
   "metadata": {},
   "outputs": [],
   "source": [
    "import numpy as np"
   ]
  },
  {
   "cell_type": "code",
   "execution_count": 2,
   "id": "11506c69-02ed-494a-99e8-2a0df4bf7336",
   "metadata": {},
   "outputs": [],
   "source": [
    "from scipy.stats import norm"
   ]
  },
  {
   "cell_type": "code",
   "execution_count": 4,
   "id": "c712f2f4-8377-43e8-9684-c139e93e535d",
   "metadata": {},
   "outputs": [],
   "source": [
    "a = np.array([1, 1.1, 1.2])\n",
    "b = np.array([1, 20, 30])"
   ]
  },
  {
   "cell_type": "code",
   "execution_count": 5,
   "id": "69b6dd18-6209-40da-a1e1-c50946486709",
   "metadata": {},
   "outputs": [],
   "source": [
    "z_a = (a - a.mean())/a.std()"
   ]
  },
  {
   "cell_type": "code",
   "execution_count": 6,
   "id": "175c5687-23a3-4e72-abfb-862d14cc0503",
   "metadata": {},
   "outputs": [
    {
     "data": {
      "text/plain": [
       "array([-1.22474487e+00,  2.71947991e-15,  1.22474487e+00])"
      ]
     },
     "execution_count": 6,
     "metadata": {},
     "output_type": "execute_result"
    }
   ],
   "source": [
    "z_a"
   ]
  },
  {
   "cell_type": "code",
   "execution_count": 7,
   "id": "68f0e4a8-2370-442c-a96e-9011d2095ba0",
   "metadata": {},
   "outputs": [],
   "source": [
    "z_b = (b - b.mean())/b.std()"
   ]
  },
  {
   "cell_type": "code",
   "execution_count": 8,
   "id": "f6d3267e-3ee6-4b17-98db-4de77c30625e",
   "metadata": {},
   "outputs": [
    {
     "data": {
      "text/plain": [
       "array([-1.33025759,  0.2494233 ,  1.08083429])"
      ]
     },
     "execution_count": 8,
     "metadata": {},
     "output_type": "execute_result"
    }
   ],
   "source": [
    "z_b"
   ]
  },
  {
   "cell_type": "code",
   "execution_count": 9,
   "id": "44a0b254-0abb-40cd-8fdc-6d2c5dfc3039",
   "metadata": {},
   "outputs": [],
   "source": [
    "phi_a = norm.cdf(z_a)\n",
    "phi_b = norm.cdf(z_b)"
   ]
  },
  {
   "cell_type": "code",
   "execution_count": 10,
   "id": "c6b2900e-7cb9-4b0c-aa19-790baf3cbc22",
   "metadata": {},
   "outputs": [
    {
     "data": {
      "text/plain": [
       "array([0.11033568, 0.5       , 0.88966432])"
      ]
     },
     "execution_count": 10,
     "metadata": {},
     "output_type": "execute_result"
    }
   ],
   "source": [
    "phi_a"
   ]
  },
  {
   "cell_type": "code",
   "execution_count": 11,
   "id": "90711306-1281-4eac-99f6-07ba99562e45",
   "metadata": {},
   "outputs": [
    {
     "data": {
      "text/plain": [
       "array([0.09171671, 0.59848332, 0.86011458])"
      ]
     },
     "execution_count": 11,
     "metadata": {},
     "output_type": "execute_result"
    }
   ],
   "source": [
    "phi_b"
   ]
  },
  {
   "cell_type": "code",
   "execution_count": null,
   "id": "64b6c7b1-e945-40f8-9ed7-0d7a832978f0",
   "metadata": {},
   "outputs": [],
   "source": []
  }
 ],
 "metadata": {
  "kernelspec": {
   "display_name": "Python 3 (ipykernel)",
   "language": "python",
   "name": "python3"
  },
  "language_info": {
   "codemirror_mode": {
    "name": "ipython",
    "version": 3
   },
   "file_extension": ".py",
   "mimetype": "text/x-python",
   "name": "python",
   "nbconvert_exporter": "python",
   "pygments_lexer": "ipython3",
   "version": "3.7.9"
  }
 },
 "nbformat": 4,
 "nbformat_minor": 5
}
